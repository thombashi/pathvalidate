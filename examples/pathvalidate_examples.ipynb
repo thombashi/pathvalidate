{
 "cells": [
  {
   "cell_type": "code",
   "execution_count": 1,
   "metadata": {},
   "outputs": [],
   "source": [
    "name = \"\\0_a*b:c<d>e%f/(g)h+i_0.txt\""
   ]
  },
  {
   "cell_type": "code",
   "execution_count": 2,
   "metadata": {},
   "outputs": [
    {
     "name": "stderr",
     "output_type": "stream",
     "text": [
      "[PV1100] invalid characters found: invalids=('/'), value='fi:l*e/p\"a?t>h|.t<xt', platform=universal\n",
      "\n",
      "[PV1002] found a reserved name by a platform: 'COM1' is a reserved name, platform=universal, reusable_name=False\n",
      "\n"
     ]
    }
   ],
   "source": [
    "import sys\n",
    "from pathvalidate import ValidationError, validate_filename\n",
    "\n",
    "try:\n",
    "    validate_filename('fi:l*e/p\"a?t>h|.t<xt')\n",
    "except ValidationError as e:\n",
    "    print(f\"{e}\\n\", file=sys.stderr)\n",
    "\n",
    "try:\n",
    "    validate_filename(\"COM1\")\n",
    "except ValidationError as e:\n",
    "    print(f\"{e}\\n\", file=sys.stderr)"
   ]
  },
  {
   "cell_type": "code",
   "execution_count": 3,
   "metadata": {},
   "outputs": [
    {
     "name": "stderr",
     "output_type": "stream",
     "text": [
      "[PV1002] found a reserved name by a platform: 'COM1' is a reserved name, platform=universal, reusable_name=False\n"
     ]
    }
   ],
   "source": [
    "import sys\n",
    "from pathvalidate import ValidationError, validate_filename\n",
    "\n",
    "try:\n",
    "    validate_filename(\"COM1\")\n",
    "except ValidationError as e:\n",
    "    print(e, file=sys.stderr)"
   ]
  },
  {
   "cell_type": "code",
   "execution_count": 4,
   "metadata": {},
   "outputs": [
    {
     "name": "stderr",
     "output_type": "stream",
     "text": [
      "[PV1100] invalid characters found: invalids=(':', '*', '\"', '?', '>', '|', '<'), value='fi:l*e/p\"a?t>h|.t<xt', platform=Windows\n"
     ]
    }
   ],
   "source": [
    "import sys\n",
    "from pathvalidate import ValidationError, validate_filepath\n",
    "\n",
    "try:\n",
    "    validate_filepath('fi:l*e/p\"a?t>h|.t<xt')\n",
    "except ValidationError as e:\n",
    "    print(e, file=sys.stderr)"
   ]
  },
  {
   "cell_type": "code",
   "execution_count": 5,
   "metadata": {},
   "outputs": [
    {
     "name": "stdout",
     "output_type": "stream",
     "text": [
      "fi:l*e/p\"a?t>h|.t<xt -> filepath.txt\n",
      "\n",
      "\u0000_a*b:c<d>e%f/(g)h+i_0.txt -> _abcde%f(g)h+i_0.txt\n",
      "\n"
     ]
    }
   ],
   "source": [
    "from pathvalidate import sanitize_filename\n",
    "\n",
    "fname = 'fi:l*e/p\"a?t>h|.t<xt'\n",
    "print(f\"{fname} -> {sanitize_filename(fname)}\\n\")\n",
    "\n",
    "fname = \"\\0_a*b:c<d>e%f/(g)h+i_0.txt\"\n",
    "print(f\"{fname} -> {sanitize_filename(fname)}\\n\")"
   ]
  },
  {
   "cell_type": "code",
   "execution_count": 6,
   "metadata": {},
   "outputs": [
    {
     "name": "stdout",
     "output_type": "stream",
     "text": [
      "fi:l*e/p\"a?t>h|.t<xt -> file/path.txt\n",
      "\n",
      "\u0000_a*b:c<d>e%f/(g)h+i_0.txt -> _abcde%f/(g)h+i_0.txt\n",
      "\n"
     ]
    }
   ],
   "source": [
    "from pathvalidate import sanitize_filepath\n",
    "\n",
    "fpath = 'fi:l*e/p\"a?t>h|.t<xt'\n",
    "print(f\"{fpath} -> {sanitize_filepath(fpath)}\\n\")\n",
    "\n",
    "fpath = \"\\0_a*b:c<d>e%f/(g)h+i_0.txt\"\n",
    "print(f\"{fpath} -> {sanitize_filepath(fpath)}\\n\")"
   ]
  },
  {
   "cell_type": "code",
   "execution_count": 7,
   "metadata": {},
   "outputs": [
    {
     "name": "stdout",
     "output_type": "stream",
     "text": [
      "\u0000_a*b:c<d>e%f/(g)h+i_0.txt -> abcdefghi0txt\n"
     ]
    }
   ],
   "source": [
    "from pathvalidate import replace_symbol\n",
    "\n",
    "name = \"\\0_a*b:c<d>e%f/(g)h+i_0.txt\"\n",
    "print(f\"{name} -> {replace_symbol(name)}\")"
   ]
  },
  {
   "cell_type": "code",
   "execution_count": 8,
   "metadata": {},
   "outputs": [
    {
     "name": "stdout",
     "output_type": "stream",
     "text": [
      "is_valid_filename('fi:l*e/p\"a?t>h|.t<xt') return False\n",
      "\n",
      "is_valid_filename('filepath.txt') return True\n",
      "\n"
     ]
    }
   ],
   "source": [
    "from pathvalidate import is_valid_filename, sanitize_filename\n",
    "\n",
    "fname = 'fi:l*e/p\"a?t>h|.t<xt'\n",
    "print(f\"is_valid_filename('{fname}') return {is_valid_filename(fname)}\\n\")\n",
    "\n",
    "sanitized_fname = sanitize_filename(fname)\n",
    "print(f\"is_valid_filename('{sanitized_fname}') return {is_valid_filename(sanitized_fname)}\\n\")"
   ]
  },
  {
   "cell_type": "code",
   "execution_count": 9,
   "metadata": {},
   "outputs": [
    {
     "name": "stdout",
     "output_type": "stream",
     "text": [
      "is_valid_filepath('fi:l*e/p\"a?t>h|.t<xt') return False\n",
      "\n",
      "is_valid_filepath('file/path.txt') return True\n",
      "\n"
     ]
    }
   ],
   "source": [
    "from pathvalidate import is_valid_filepath, sanitize_filepath\n",
    "\n",
    "fpath = 'fi:l*e/p\"a?t>h|.t<xt'\n",
    "print(f\"is_valid_filepath('{fpath}') return {is_valid_filepath(fpath)}\\n\")\n",
    "\n",
    "sanitized_fpath = sanitize_filepath(fpath)\n",
    "print(f\"is_valid_filepath('{sanitized_fpath}') return {is_valid_filepath(sanitized_fpath)}\\n\")"
   ]
  },
  {
   "cell_type": "code",
   "execution_count": 4,
   "metadata": {},
   "outputs": [
    {
     "data": {
      "text/plain": [
       "'._'"
      ]
     },
     "execution_count": 4,
     "metadata": {},
     "output_type": "execute_result"
    }
   ],
   "source": [
    "from pathvalidate import sanitize_filename, ValidationError\n",
    "\n",
    "\n",
    "def add_trailing_underscore(e: ValidationError) -> str:\n",
    "    if e.reusable_name:\n",
    "        return e.reserved_name\n",
    "\n",
    "    return f\"{e.reserved_name}_\"\n",
    "\n",
    "\n",
    "sanitize_filename(\n",
    "    \".\", reserved_name_handler=add_trailing_underscore, additional_reserved_names=[\".\"]\n",
    ")"
   ]
  }
 ],
 "metadata": {
  "kernelspec": {
   "display_name": "Python 3.8.12 64-bit ('3.8.12')",
   "language": "python",
   "name": "python3"
  },
  "language_info": {
   "codemirror_mode": {
    "name": "ipython",
    "version": 3
   },
   "file_extension": ".py",
   "mimetype": "text/x-python",
   "name": "python",
   "nbconvert_exporter": "python",
   "pygments_lexer": "ipython3",
   "version": "3.11.4"
  },
  "vscode": {
   "interpreter": {
    "hash": "c07eda5d3696c8b68c933d32ea433f84251ada7607722ea42bf003255d06d542"
   }
  }
 },
 "nbformat": 4,
 "nbformat_minor": 1
}
